{
 "cells": [
  {
   "cell_type": "code",
   "execution_count": 1,
   "metadata": {},
   "outputs": [],
   "source": [
    "import pandas as pd\n",
    "import os\n",
    "from sklearn.feature_extraction.text import TfidfVectorizer, CountVectorizer"
   ]
  },
  {
   "cell_type": "code",
   "execution_count": 2,
   "metadata": {},
   "outputs": [
    {
     "data": {
      "text/plain": [
       "(18008, 8)"
      ]
     },
     "execution_count": 2,
     "metadata": {},
     "output_type": "execute_result"
    }
   ],
   "source": [
    "df = pd.DataFrame()\n",
    "for filename in os.listdir('datasets'):\n",
    "     df = df.append(pd.read_csv('datasets/' + filename, dtype={'label':str}), ignore_index=True)\n",
    "\n",
    "df.shape"
   ]
  },
  {
   "cell_type": "code",
   "execution_count": 3,
   "metadata": {},
   "outputs": [
    {
     "data": {
      "text/plain": [
       "Facebook posts           1002\n",
       "Donald Trump              899\n",
       "Bloggers                  595\n",
       "Barack Obama              554\n",
       "Viral image               545\n",
       "                         ... \n",
       "Norcross City Council       1\n",
       "Raging Elephants            1\n",
       "Cal Thomas                  1\n",
       "Steve Goreham               1\n",
       "Madison Action Fund         1\n",
       "Name: author, Length: 4242, dtype: int64"
      ]
     },
     "execution_count": 3,
     "metadata": {},
     "output_type": "execute_result"
    }
   ],
   "source": [
    "df['author'].value_counts()"
   ]
  },
  {
   "cell_type": "code",
   "execution_count": null,
   "metadata": {},
   "outputs": [],
   "source": [
    "# split the dataset into training and validation datasets \n",
    "train_x, valid_x, train_y, valid_y = model_selection.train_test_split(trainDF['text'], trainDF['label'])\n",
    "\n",
    "# label encode the target variable \n",
    "encoder = preprocessing.LabelEncoder()\n",
    "train_y = encoder.fit_transform(train_y)\n",
    "valid_y = encoder.fit_transform(valid_y)"
   ]
  },
  {
   "cell_type": "code",
   "execution_count": 4,
   "metadata": {},
   "outputs": [
    {
     "data": {
      "text/plain": [
       "the        13947\n",
       "of          8048\n",
       "in          7919\n",
       "to          7799\n",
       "a           6171\n",
       "and         4960\n",
       "Says        4522\n",
       "for         3415\n",
       "that        3041\n",
       "is          3001\n",
       "on          2152\n",
       "have        2061\n",
       "The         2044\n",
       "are         1975\n",
       "has         1823\n",
       "than        1764\n",
       "was         1543\n",
       "by          1396\n",
       "with        1386\n",
       "from        1385\n",
       "percent     1346\n",
       "more        1308\n",
       "as          1159\n",
       "not         1056\n",
       "people       975\n",
       "at           952\n",
       "it           939\n",
       "be           936\n",
       "our          932\n",
       "tax          919\n",
       "dtype: int64"
      ]
     },
     "execution_count": 4,
     "metadata": {},
     "output_type": "execute_result"
    }
   ],
   "source": [
    "# word level tf-idf\n",
    "tfidf_vect = TfidfVectorizer(analyzer='word', token_pattern=r'\\w{1,}', max_features=5000)\n",
    "tfidf_vect.fit(trainDF['text'])\n",
    "xtrain_tfidf =  tfidf_vect.transform(train_x)\n",
    "xvalid_tfidf =  tfidf_vect.transform(valid_x)"
   ]
  }
 ],
 "metadata": {
  "kernelspec": {
   "display_name": "Python 3",
   "language": "python",
   "name": "python3"
  },
  "language_info": {
   "codemirror_mode": {
    "name": "ipython",
    "version": 3
   },
   "file_extension": ".py",
   "mimetype": "text/x-python",
   "name": "python",
   "nbconvert_exporter": "python",
   "pygments_lexer": "ipython3",
   "version": "3.8.5"
  }
 },
 "nbformat": 4,
 "nbformat_minor": 4
}
