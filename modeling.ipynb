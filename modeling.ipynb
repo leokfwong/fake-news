{
 "cells": [
  {
   "cell_type": "code",
   "execution_count": 12,
   "metadata": {},
   "outputs": [],
   "source": [
    "import pandas as pd\n",
    "import numpy as np\n",
    "import sklearn\n",
    "import matplotlib.pyplot as plt\n",
    "from sklearn.feature_extraction.text import TfidfVectorizer, CountVectorizer\n",
    "from sklearn import preprocessing\n",
    "from sklearn import metrics\n",
    "from sklearn.model_selection import train_test_split\n",
    "from sklearn.model_selection import GridSearchCV\n",
    "from sklearn.model_selection import cross_val_score, cross_val_predict\n",
    "from sklearn.neighbors import KNeighborsClassifier\n",
    "from sklearn.naive_bayes import MultinomialNB\n",
    "from sklearn.svm import SVC\n",
    "from scipy.sparse import coo_matrix, hstack"
   ]
  },
  {
   "cell_type": "code",
   "execution_count": 2,
   "metadata": {},
   "outputs": [
    {
     "data": {
      "text/html": [
       "<div>\n",
       "<style scoped>\n",
       "    .dataframe tbody tr th:only-of-type {\n",
       "        vertical-align: middle;\n",
       "    }\n",
       "\n",
       "    .dataframe tbody tr th {\n",
       "        vertical-align: top;\n",
       "    }\n",
       "\n",
       "    .dataframe thead th {\n",
       "        text-align: right;\n",
       "    }\n",
       "</style>\n",
       "<table border=\"1\" class=\"dataframe\">\n",
       "  <thead>\n",
       "    <tr style=\"text-align: right;\">\n",
       "      <th></th>\n",
       "      <th>label</th>\n",
       "      <th>quote</th>\n",
       "      <th>context</th>\n",
       "      <th>author_id</th>\n",
       "      <th>author_name</th>\n",
       "      <th>date</th>\n",
       "      <th>categories</th>\n",
       "      <th>staff</th>\n",
       "      <th>label_binary</th>\n",
       "      <th>context_clean</th>\n",
       "      <th>...</th>\n",
       "      <th>affiliation_other</th>\n",
       "      <th>affiliation_republican</th>\n",
       "      <th>affiliation_state official</th>\n",
       "      <th>affiliation_talk show host</th>\n",
       "      <th>gender_andy</th>\n",
       "      <th>gender_female</th>\n",
       "      <th>gender_male</th>\n",
       "      <th>gender_mostly_female</th>\n",
       "      <th>gender_mostly_male</th>\n",
       "      <th>gender_unknown</th>\n",
       "    </tr>\n",
       "  </thead>\n",
       "  <tbody>\n",
       "    <tr>\n",
       "      <th>0</th>\n",
       "      <td>0</td>\n",
       "      <td>pennsylvania banned alcohol sale</td>\n",
       "      <td>a Facebook post</td>\n",
       "      <td>viral-image</td>\n",
       "      <td>Viral image</td>\n",
       "      <td>November 24, 2020</td>\n",
       "      <td>Facebook Fact-checks, Coronavirus</td>\n",
       "      <td>Ciara O'Rourke</td>\n",
       "      <td>0</td>\n",
       "      <td>facebook</td>\n",
       "      <td>...</td>\n",
       "      <td>0</td>\n",
       "      <td>0</td>\n",
       "      <td>0</td>\n",
       "      <td>0</td>\n",
       "      <td>0</td>\n",
       "      <td>0</td>\n",
       "      <td>0</td>\n",
       "      <td>0</td>\n",
       "      <td>0</td>\n",
       "      <td>1</td>\n",
       "    </tr>\n",
       "    <tr>\n",
       "      <th>1</th>\n",
       "      <td>0</td>\n",
       "      <td>666000 teacher laid already since march</td>\n",
       "      <td>a virtual roundtable</td>\n",
       "      <td>joe-biden</td>\n",
       "      <td>Joe Biden</td>\n",
       "      <td>November 18, 2020</td>\n",
       "      <td>Education, Coronavirus</td>\n",
       "      <td>Bill McCarthy</td>\n",
       "      <td>0</td>\n",
       "      <td>roundtable</td>\n",
       "      <td>...</td>\n",
       "      <td>0</td>\n",
       "      <td>0</td>\n",
       "      <td>0</td>\n",
       "      <td>0</td>\n",
       "      <td>0</td>\n",
       "      <td>0</td>\n",
       "      <td>1</td>\n",
       "      <td>0</td>\n",
       "      <td>0</td>\n",
       "      <td>0</td>\n",
       "    </tr>\n",
       "    <tr>\n",
       "      <th>2</th>\n",
       "      <td>0</td>\n",
       "      <td>david perdue say hell everything power make su...</td>\n",
       "      <td>an ad</td>\n",
       "      <td>jon-ossoff</td>\n",
       "      <td>Jon Ossoff</td>\n",
       "      <td>November 17, 2020</td>\n",
       "      <td>Georgia, Negative Campaigning</td>\n",
       "      <td>Tom Kertscher</td>\n",
       "      <td>0</td>\n",
       "      <td>ad</td>\n",
       "      <td>...</td>\n",
       "      <td>0</td>\n",
       "      <td>0</td>\n",
       "      <td>0</td>\n",
       "      <td>0</td>\n",
       "      <td>0</td>\n",
       "      <td>0</td>\n",
       "      <td>1</td>\n",
       "      <td>0</td>\n",
       "      <td>0</td>\n",
       "      <td>0</td>\n",
       "    </tr>\n",
       "    <tr>\n",
       "      <th>3</th>\n",
       "      <td>0</td>\n",
       "      <td>say 47 additional county used software caused ...</td>\n",
       "      <td>a Facebook post</td>\n",
       "      <td>ted-nugent</td>\n",
       "      <td>Ted Nugent</td>\n",
       "      <td>November 17, 2020</td>\n",
       "      <td>Elections, Facebook Fact-checks</td>\n",
       "      <td>Samantha Putterman</td>\n",
       "      <td>0</td>\n",
       "      <td>facebook</td>\n",
       "      <td>...</td>\n",
       "      <td>0</td>\n",
       "      <td>1</td>\n",
       "      <td>0</td>\n",
       "      <td>0</td>\n",
       "      <td>0</td>\n",
       "      <td>0</td>\n",
       "      <td>1</td>\n",
       "      <td>0</td>\n",
       "      <td>0</td>\n",
       "      <td>0</td>\n",
       "    </tr>\n",
       "    <tr>\n",
       "      <th>4</th>\n",
       "      <td>0</td>\n",
       "      <td>voter fraud exposed georgia 2600 vote found</td>\n",
       "      <td>in a Live video</td>\n",
       "      <td>facebook-posts</td>\n",
       "      <td>Facebook posts</td>\n",
       "      <td>November 16, 2020</td>\n",
       "      <td>Georgia, Elections, Facebook Fact-checks</td>\n",
       "      <td>Daniel Funke</td>\n",
       "      <td>0</td>\n",
       "      <td>video</td>\n",
       "      <td>...</td>\n",
       "      <td>0</td>\n",
       "      <td>0</td>\n",
       "      <td>0</td>\n",
       "      <td>0</td>\n",
       "      <td>0</td>\n",
       "      <td>0</td>\n",
       "      <td>0</td>\n",
       "      <td>0</td>\n",
       "      <td>0</td>\n",
       "      <td>1</td>\n",
       "    </tr>\n",
       "  </tbody>\n",
       "</table>\n",
       "<p>5 rows × 4362 columns</p>\n",
       "</div>"
      ],
      "text/plain": [
       "  label                                              quote  \\\n",
       "0     0                   pennsylvania banned alcohol sale   \n",
       "1     0            666000 teacher laid already since march   \n",
       "2     0  david perdue say hell everything power make su...   \n",
       "3     0  say 47 additional county used software caused ...   \n",
       "4     0        voter fraud exposed georgia 2600 vote found   \n",
       "\n",
       "                context       author_id     author_name               date  \\\n",
       "0       a Facebook post     viral-image     Viral image  November 24, 2020   \n",
       "1  a virtual roundtable       joe-biden       Joe Biden  November 18, 2020   \n",
       "2                 an ad      jon-ossoff      Jon Ossoff  November 17, 2020   \n",
       "3       a Facebook post      ted-nugent      Ted Nugent  November 17, 2020   \n",
       "4       in a Live video  facebook-posts  Facebook posts  November 16, 2020   \n",
       "\n",
       "                                 categories               staff  label_binary  \\\n",
       "0         Facebook Fact-checks, Coronavirus      Ciara O'Rourke             0   \n",
       "1                    Education, Coronavirus       Bill McCarthy             0   \n",
       "2             Georgia, Negative Campaigning       Tom Kertscher             0   \n",
       "3           Elections, Facebook Fact-checks  Samantha Putterman             0   \n",
       "4  Georgia, Elections, Facebook Fact-checks        Daniel Funke             0   \n",
       "\n",
       "  context_clean  ... affiliation_other affiliation_republican  \\\n",
       "0      facebook  ...                 0                      0   \n",
       "1    roundtable  ...                 0                      0   \n",
       "2            ad  ...                 0                      0   \n",
       "3      facebook  ...                 0                      1   \n",
       "4         video  ...                 0                      0   \n",
       "\n",
       "  affiliation_state official affiliation_talk show host gender_andy  \\\n",
       "0                          0                          0           0   \n",
       "1                          0                          0           0   \n",
       "2                          0                          0           0   \n",
       "3                          0                          0           0   \n",
       "4                          0                          0           0   \n",
       "\n",
       "   gender_female  gender_male  gender_mostly_female  gender_mostly_male  \\\n",
       "0              0            0                     0                   0   \n",
       "1              0            1                     0                   0   \n",
       "2              0            1                     0                   0   \n",
       "3              0            1                     0                   0   \n",
       "4              0            0                     0                   0   \n",
       "\n",
       "   gender_unknown  \n",
       "0               1  \n",
       "1               0  \n",
       "2               0  \n",
       "3               0  \n",
       "4               1  \n",
       "\n",
       "[5 rows x 4362 columns]"
      ]
     },
     "execution_count": 2,
     "metadata": {},
     "output_type": "execute_result"
    }
   ],
   "source": [
    "df_full = pd.read_csv('data/df_quotes_clean.csv', dtype={'label':str})\n",
    "df_full.head()"
   ]
  },
  {
   "cell_type": "markdown",
   "metadata": {},
   "source": [
    "## Define the Features that will be Included in Modeling"
   ]
  },
  {
   "cell_type": "code",
   "execution_count": 3,
   "metadata": {},
   "outputs": [],
   "source": [
    "text_features = ['num_words', 'num_chars', 'avg_word_len', 'num_stopwords']\n",
    "date_features = [col for col in df_full.columns if ('date_' in col) and (col not in ['date_formatted'])]\n",
    "author_features = [col for col in df_full.columns if ('author_' in col) and (col not in ['author_id', 'author_name'])]\n",
    "context_features = [col for col in df_full.columns if ('context_' in col) and (col != 'context_clean')]\n",
    "gender_features = [col for col in df_full.columns if 'gender_' in col]\n",
    "affiliation_features = [col for col in df_full.columns if 'affiliation_' in col]\n",
    "features_cols = ['quote'] + context_features + affiliation_features + gender_features + author_features\n",
    "#features_cols = ['quote'] # To test with only quote"
   ]
  },
  {
   "cell_type": "code",
   "execution_count": 4,
   "metadata": {},
   "outputs": [],
   "source": [
    "features = df_full[features_cols]\n",
    "#labels = df_full['label'].to_numpy()\n",
    "labels = df_full['label_binary'].to_numpy()"
   ]
  },
  {
   "cell_type": "markdown",
   "metadata": {},
   "source": [
    "## Train Test Split"
   ]
  },
  {
   "cell_type": "code",
   "execution_count": 5,
   "metadata": {},
   "outputs": [],
   "source": [
    "X_train, X_test, y_train, y_test = train_test_split(features, labels, test_size=0.3, shuffle=True, random_state=42)"
   ]
  },
  {
   "cell_type": "markdown",
   "metadata": {},
   "source": [
    "## TF-IDF Vectorization"
   ]
  },
  {
   "cell_type": "code",
   "execution_count": 6,
   "metadata": {},
   "outputs": [
    {
     "data": {
      "text/plain": [
       "(12534, 13283)"
      ]
     },
     "execution_count": 6,
     "metadata": {},
     "output_type": "execute_result"
    }
   ],
   "source": [
    "# word level tf-idf\n",
    "tfidf_vect = TfidfVectorizer(analyzer='word', stop_words='english', max_df=0.7)\n",
    "tfidf_vect.fit(X_train['quote'].to_numpy())\n",
    "X_train_quote =  tfidf_vect.transform(X_train['quote'].to_numpy())\n",
    "X_test_quote =  tfidf_vect.transform(X_test['quote'].to_numpy())\n",
    "\n",
    "X_train_quote.shape"
   ]
  },
  {
   "cell_type": "markdown",
   "metadata": {},
   "source": [
    "## Concatenate Quote and Features Sparse Matrices "
   ]
  },
  {
   "cell_type": "code",
   "execution_count": 7,
   "metadata": {},
   "outputs": [],
   "source": [
    "selected_features = [feat for feat in features if feat not in ['quote']]\n",
    "X_train_full = hstack([coo_matrix(X_train_quote), coo_matrix(X_train[selected_features])])\n",
    "X_test_full = hstack([coo_matrix(X_test_quote), coo_matrix(X_test[selected_features])])"
   ]
  },
  {
   "cell_type": "code",
   "execution_count": 8,
   "metadata": {},
   "outputs": [
    {
     "name": "stdout",
     "output_type": "stream",
     "text": [
      "Prediction accuracy 0.6824274013402829\n"
     ]
    }
   ],
   "source": [
    "#KNN\n",
    "from sklearn.neighbors import KNeighborsClassifier\n",
    "knn = KNeighborsClassifier()\n",
    "knn.fit(X_train_full, y_train)\n",
    "prediction = knn.predict(X_test_full)\n",
    "accuracy = (prediction == y_test).mean()\n",
    "print(f'Prediction accuracy {accuracy}')"
   ]
  },
  {
   "cell_type": "code",
   "execution_count": 9,
   "metadata": {},
   "outputs": [],
   "source": [
    "def CrossValidate(clf, splits, X_train, y_train):\n",
    "    scores = cross_val_score(clf, X_train, y_train, cv=splits)\n",
    "    print('Cross-validated scores:', scores)\n",
    "    print(f'Mean Accuracy: {scores.mean():0.2f} (+/- {scores.std() * 2:0.2f})')"
   ]
  },
  {
   "cell_type": "code",
   "execution_count": 10,
   "metadata": {
    "scrolled": true
   },
   "outputs": [
    {
     "name": "stdout",
     "output_type": "stream",
     "text": [
      "Cross-validated scores: [0.66852812 0.69525329 0.67291584 0.67889908 0.68475658]\n",
      "Mean Accuracy: 0.68 (+/- 0.02)\n"
     ]
    }
   ],
   "source": [
    "clf = KNeighborsClassifier(n_neighbors=5)\n",
    "CrossValidate(clf, 5, X_train_full, y_train)"
   ]
  },
  {
   "cell_type": "code",
   "execution_count": 22,
   "metadata": {},
   "outputs": [
    {
     "name": "stdout",
     "output_type": "stream",
     "text": [
      "Cross-validated scores: [0.69684882 0.70522537 0.70801755 0.70602314 0.71029529]\n",
      "Mean Accuracy: 0.71 (+/- 0.01)\n"
     ]
    }
   ],
   "source": [
    "clf = MultinomialNB()\n",
    "CrossValidate(clf, 5, X_train_full, y_train)"
   ]
  },
  {
   "cell_type": "code",
   "execution_count": 23,
   "metadata": {},
   "outputs": [
    {
     "name": "stdout",
     "output_type": "stream",
     "text": [
      "Cross-validated scores: [0.70283207 0.70243319 0.70243319 0.70243319 0.70271349]\n",
      "Mean Accuracy: 0.70 (+/- 0.00)\n"
     ]
    }
   ],
   "source": [
    "clf = SVC()\n",
    "CrossValidate(clf, 5, X_train_full, y_train)"
   ]
  },
  {
   "cell_type": "code",
   "execution_count": 24,
   "metadata": {},
   "outputs": [
    {
     "data": {
      "image/png": "[encoded data removed]",
      "text/plain": [
       "<Figure size 864x864 with 2 Axes>"
      ]
     },
     "metadata": {
      "needs_background": "light"
     },
     "output_type": "display_data"
    }
   ],
   "source": [
    "fig, ax = plt.subplots(figsize=(12, 12))\n",
    "disp = metrics.plot_confusion_matrix(MultinomialNB().fit(X_train_full, y_train), \n",
    "                             X_test_full, y_test,\n",
    "                             display_labels=np.unique(y_train), \n",
    "                             ax=ax, cmap=plt.cm.Blues, xticks_rotation='vertical')"
   ]
  }
 ],
 "metadata": {
  "kernelspec": {
   "display_name": "Python 3",
   "language": "python",
   "name": "python3"
  },
  "language_info": {
   "codemirror_mode": {
    "name": "ipython",
    "version": 3
   },
   "file_extension": ".py",
   "mimetype": "text/x-python",
   "name": "python",
   "nbconvert_exporter": "python",
   "pygments_lexer": "ipython3",
   "version": "3.8.5"
  }
 },
 "nbformat": 4,
 "nbformat_minor": 4
}
