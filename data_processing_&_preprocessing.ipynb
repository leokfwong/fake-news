{
 "cells": [
  {
   "cell_type": "code",
   "execution_count": 1,
   "metadata": {},
   "outputs": [],
   "source": [
    "import pandas as pd\n",
    "import os\n",
    "from nltk import word_tokenize\n",
    "from nltk.corpus import stopwords\n",
    "from nltk.stem import WordNetLemmatizer\n",
    "import re, unicodedata\n",
    "\n",
    "from sklearn.feature_extraction.text import TfidfVectorizer, CountVectorizer\n",
    "from sklearn import model_selection, preprocessing"
   ]
  },
  {
   "cell_type": "code",
   "execution_count": 2,
   "metadata": {},
   "outputs": [
    {
     "data": {
      "text/plain": [
       "(18099, 7)"
      ]
     },
     "execution_count": 2,
     "metadata": {},
     "output_type": "execute_result"
    }
   ],
   "source": [
    "df = pd.DataFrame()\n",
    "for filename in os.listdir('datasets'):\n",
    "     df = df.append(pd.read_csv('datasets/' + filename, dtype={'label':str}), ignore_index=True)\n",
    "\n",
    "df.shape"
   ]
  },
  {
   "cell_type": "code",
   "execution_count": 3,
   "metadata": {},
   "outputs": [
    {
     "data": {
      "text/html": [
       "<div>\n",
       "<style scoped>\n",
       "    .dataframe tbody tr th:only-of-type {\n",
       "        vertical-align: middle;\n",
       "    }\n",
       "\n",
       "    .dataframe tbody tr th {\n",
       "        vertical-align: top;\n",
       "    }\n",
       "\n",
       "    .dataframe thead th {\n",
       "        text-align: right;\n",
       "    }\n",
       "</style>\n",
       "<table border=\"1\" class=\"dataframe\">\n",
       "  <thead>\n",
       "    <tr style=\"text-align: right;\">\n",
       "      <th></th>\n",
       "      <th>label</th>\n",
       "      <th>quote</th>\n",
       "      <th>context</th>\n",
       "      <th>author</th>\n",
       "      <th>date</th>\n",
       "      <th>categories</th>\n",
       "      <th>staff</th>\n",
       "    </tr>\n",
       "  </thead>\n",
       "  <tbody>\n",
       "    <tr>\n",
       "      <th>0</th>\n",
       "      <td>barely-true</td>\n",
       "      <td>“666,000 teachers have been laid off already s...</td>\n",
       "      <td>a virtual roundtable</td>\n",
       "      <td>Joe Biden</td>\n",
       "      <td>November 18, 2020</td>\n",
       "      <td>Education, Coronavirus</td>\n",
       "      <td>Bill McCarthy</td>\n",
       "    </tr>\n",
       "    <tr>\n",
       "      <th>1</th>\n",
       "      <td>barely-true</td>\n",
       "      <td>“David Perdue says he'll do everything in his ...</td>\n",
       "      <td>an ad</td>\n",
       "      <td>Jon Ossoff</td>\n",
       "      <td>November 17, 2020</td>\n",
       "      <td>Georgia, Negative Campaigning</td>\n",
       "      <td>Tom Kertscher</td>\n",
       "    </tr>\n",
       "    <tr>\n",
       "      <th>2</th>\n",
       "      <td>barely-true</td>\n",
       "      <td>Says “47 additional counties used the same sof...</td>\n",
       "      <td>a Facebook post</td>\n",
       "      <td>Ted Nugent</td>\n",
       "      <td>November 17, 2020</td>\n",
       "      <td>Elections, Facebook Fact-checks</td>\n",
       "      <td>Samantha Putterman</td>\n",
       "    </tr>\n",
       "    <tr>\n",
       "      <th>3</th>\n",
       "      <td>barely-true</td>\n",
       "      <td>\"Voter FRAUD exposed in Georgia. Over 2600 vot...</td>\n",
       "      <td>in a Live video</td>\n",
       "      <td>Facebook posts</td>\n",
       "      <td>November 16, 2020</td>\n",
       "      <td>Georgia, Elections, Facebook Fact-checks</td>\n",
       "      <td>Daniel Funke</td>\n",
       "    </tr>\n",
       "    <tr>\n",
       "      <th>4</th>\n",
       "      <td>barely-true</td>\n",
       "      <td>Says Raphael Warnock \"ran over his wife\" and w...</td>\n",
       "      <td>a tweet</td>\n",
       "      <td>Erick Erickson</td>\n",
       "      <td>November 13, 2020</td>\n",
       "      <td>Georgia, Candidate Biography, Crime, PunditFact</td>\n",
       "      <td>Tom Kertscher</td>\n",
       "    </tr>\n",
       "  </tbody>\n",
       "</table>\n",
       "</div>"
      ],
      "text/plain": [
       "         label                                              quote  \\\n",
       "0  barely-true  “666,000 teachers have been laid off already s...   \n",
       "1  barely-true  “David Perdue says he'll do everything in his ...   \n",
       "2  barely-true  Says “47 additional counties used the same sof...   \n",
       "3  barely-true  \"Voter FRAUD exposed in Georgia. Over 2600 vot...   \n",
       "4  barely-true  Says Raphael Warnock \"ran over his wife\" and w...   \n",
       "\n",
       "                context          author               date  \\\n",
       "0  a virtual roundtable       Joe Biden  November 18, 2020   \n",
       "1                 an ad      Jon Ossoff  November 17, 2020   \n",
       "2       a Facebook post      Ted Nugent  November 17, 2020   \n",
       "3       in a Live video  Facebook posts  November 16, 2020   \n",
       "4               a tweet  Erick Erickson  November 13, 2020   \n",
       "\n",
       "                                        categories               staff  \n",
       "0                           Education, Coronavirus       Bill McCarthy  \n",
       "1                    Georgia, Negative Campaigning       Tom Kertscher  \n",
       "2                  Elections, Facebook Fact-checks  Samantha Putterman  \n",
       "3         Georgia, Elections, Facebook Fact-checks        Daniel Funke  \n",
       "4  Georgia, Candidate Biography, Crime, PunditFact       Tom Kertscher  "
      ]
     },
     "execution_count": 3,
     "metadata": {},
     "output_type": "execute_result"
    }
   ],
   "source": [
    "df.head()"
   ]
  },
  {
   "cell_type": "code",
   "execution_count": 4,
   "metadata": {},
   "outputs": [],
   "source": [
    "def remove_stopwords(text):\n",
    "    new_words = []\n",
    "    stop_words = stopwords.words('english')\n",
    "    words = word_tokenize(text)\n",
    "    for word in words:\n",
    "        if word not in stop_words:\n",
    "            new_words.append(word)\n",
    "    return ' '.join(new_words)\n",
    "\n",
    "def remove_non_ascii(words):\n",
    "    new_words = []\n",
    "    for word in words:\n",
    "        new_word = unicodedata.normalize('NFKD', word).encode('ascii', 'ignore').decode('utf-8', 'ignore')\n",
    "        new_words.append(new_word)\n",
    "    return ''.join(new_words)\n",
    "\n",
    "def lemmatize_words(text):\n",
    "    lemmatizer = WordNetLemmatizer()   \n",
    "    new_words = []\n",
    "    words = word_tokenize(text)\n",
    "    for word in words:\n",
    "        new_words.append(str(lemmatizer.lemmatize(word)))\n",
    "    return ' '.join(new_words)\n",
    "\n",
    "def preprocess(df, t):\n",
    "    df[t] = df[t].apply(lambda x : x.lower()) #Lower case everything\n",
    "    df[t] = df[t].apply(lambda x : re.sub(r'[^\\w\\s]', '', x)) #Remove punctuation \n",
    "    #df[t] = df[t].apply(lambda x : remove_non_ascii(x))  #Removing Non ASCII Words\n",
    "    df[t] = df[t].apply(lambda x : remove_stopwords(x))#Removing Stopwords\n",
    "    #df[t] = df[t].apply(lambda x : lemmatize_words(x))#Lemmatize words\n",
    "    return df[t]\n",
    "\n"
   ]
  },
  {
   "cell_type": "code",
   "execution_count": 5,
   "metadata": {
    "tags": []
   },
   "outputs": [],
   "source": [
    "df['quote'] = preprocess(df,'quote')"
   ]
  },
  {
   "cell_type": "code",
   "execution_count": 6,
   "metadata": {},
   "outputs": [
    {
     "data": {
      "text/html": [
       "<div>\n",
       "<style scoped>\n",
       "    .dataframe tbody tr th:only-of-type {\n",
       "        vertical-align: middle;\n",
       "    }\n",
       "\n",
       "    .dataframe tbody tr th {\n",
       "        vertical-align: top;\n",
       "    }\n",
       "\n",
       "    .dataframe thead th {\n",
       "        text-align: right;\n",
       "    }\n",
       "</style>\n",
       "<table border=\"1\" class=\"dataframe\">\n",
       "  <thead>\n",
       "    <tr style=\"text-align: right;\">\n",
       "      <th></th>\n",
       "      <th>label</th>\n",
       "      <th>quote</th>\n",
       "      <th>context</th>\n",
       "      <th>author</th>\n",
       "      <th>date</th>\n",
       "      <th>categories</th>\n",
       "      <th>staff</th>\n",
       "    </tr>\n",
       "  </thead>\n",
       "  <tbody>\n",
       "    <tr>\n",
       "      <th>0</th>\n",
       "      <td>barely-true</td>\n",
       "      <td>666000 teachers laid already since march</td>\n",
       "      <td>a virtual roundtable</td>\n",
       "      <td>Joe Biden</td>\n",
       "      <td>November 18, 2020</td>\n",
       "      <td>Education, Coronavirus</td>\n",
       "      <td>Bill McCarthy</td>\n",
       "    </tr>\n",
       "    <tr>\n",
       "      <th>1</th>\n",
       "      <td>barely-true</td>\n",
       "      <td>david perdue says hell everything power make s...</td>\n",
       "      <td>an ad</td>\n",
       "      <td>Jon Ossoff</td>\n",
       "      <td>November 17, 2020</td>\n",
       "      <td>Georgia, Negative Campaigning</td>\n",
       "      <td>Tom Kertscher</td>\n",
       "    </tr>\n",
       "    <tr>\n",
       "      <th>2</th>\n",
       "      <td>barely-true</td>\n",
       "      <td>says 47 additional counties used software caus...</td>\n",
       "      <td>a Facebook post</td>\n",
       "      <td>Ted Nugent</td>\n",
       "      <td>November 17, 2020</td>\n",
       "      <td>Elections, Facebook Fact-checks</td>\n",
       "      <td>Samantha Putterman</td>\n",
       "    </tr>\n",
       "    <tr>\n",
       "      <th>3</th>\n",
       "      <td>barely-true</td>\n",
       "      <td>voter fraud exposed georgia 2600 votes found</td>\n",
       "      <td>in a Live video</td>\n",
       "      <td>Facebook posts</td>\n",
       "      <td>November 16, 2020</td>\n",
       "      <td>Georgia, Elections, Facebook Fact-checks</td>\n",
       "      <td>Daniel Funke</td>\n",
       "    </tr>\n",
       "    <tr>\n",
       "      <th>4</th>\n",
       "      <td>barely-true</td>\n",
       "      <td>says raphael warnock ran wife arrested obstruc...</td>\n",
       "      <td>a tweet</td>\n",
       "      <td>Erick Erickson</td>\n",
       "      <td>November 13, 2020</td>\n",
       "      <td>Georgia, Candidate Biography, Crime, PunditFact</td>\n",
       "      <td>Tom Kertscher</td>\n",
       "    </tr>\n",
       "  </tbody>\n",
       "</table>\n",
       "</div>"
      ],
      "text/plain": [
       "         label                                              quote  \\\n",
       "0  barely-true           666000 teachers laid already since march   \n",
       "1  barely-true  david perdue says hell everything power make s...   \n",
       "2  barely-true  says 47 additional counties used software caus...   \n",
       "3  barely-true       voter fraud exposed georgia 2600 votes found   \n",
       "4  barely-true  says raphael warnock ran wife arrested obstruc...   \n",
       "\n",
       "                context          author               date  \\\n",
       "0  a virtual roundtable       Joe Biden  November 18, 2020   \n",
       "1                 an ad      Jon Ossoff  November 17, 2020   \n",
       "2       a Facebook post      Ted Nugent  November 17, 2020   \n",
       "3       in a Live video  Facebook posts  November 16, 2020   \n",
       "4               a tweet  Erick Erickson  November 13, 2020   \n",
       "\n",
       "                                        categories               staff  \n",
       "0                           Education, Coronavirus       Bill McCarthy  \n",
       "1                    Georgia, Negative Campaigning       Tom Kertscher  \n",
       "2                  Elections, Facebook Fact-checks  Samantha Putterman  \n",
       "3         Georgia, Elections, Facebook Fact-checks        Daniel Funke  \n",
       "4  Georgia, Candidate Biography, Crime, PunditFact       Tom Kertscher  "
      ]
     },
     "execution_count": 6,
     "metadata": {},
     "output_type": "execute_result"
    }
   ],
   "source": [
    "df.head()"
   ]
  },
  {
   "cell_type": "code",
   "execution_count": 7,
   "metadata": {},
   "outputs": [],
   "source": [
    "quote = df['quote'].to_numpy()\n",
    "label = df['label'].to_numpy()"
   ]
  },
  {
   "cell_type": "code",
   "execution_count": 8,
   "metadata": {},
   "outputs": [],
   "source": [
    "# split the dataset into training and validation datasets \n",
    "train_x, valid_x, train_y, valid_y = model_selection.train_test_split(quote, label)\n",
    "\n",
    "# label encode the target variable \n",
    "encoder = preprocessing.LabelEncoder()\n",
    "train_y = encoder.fit_transform(train_y)\n",
    "valid_y = encoder.fit_transform(valid_y)"
   ]
  },
  {
   "cell_type": "code",
   "execution_count": 9,
   "metadata": {},
   "outputs": [
    {
     "name": "stdout",
     "output_type": "stream",
     "text": [
      "['donald trump called military served disaster'\n",
      " 'photo shows time magazine cover barack obama says treason'\n",
      " 'says conor lamb ran campaign said nice things' ...\n",
      " 'n95 masks block covid19 particles due size'\n",
      " 'america owns 3 percent worlds oil consumes 25 percent global reserves'\n",
      " 'personally prochoice always made qualms elected governor']\n"
     ]
    }
   ],
   "source": [
    "print(valid_x)"
   ]
  },
  {
   "cell_type": "code",
   "execution_count": 10,
   "metadata": {},
   "outputs": [],
   "source": [
    "# word level tf-idf\n",
    "tfidf_vect = TfidfVectorizer(analyzer='word', stop_words='english', max_df=0.7)\n",
    "tfidf_vect.fit(quote)\n",
    "xtrain_tfidf =  tfidf_vect.transform(train_x).toarray()\n",
    "xvalid_tfidf =  tfidf_vect.transform(valid_x).toarray()"
   ]
  },
  {
   "cell_type": "code",
   "execution_count": 11,
   "metadata": {},
   "outputs": [
    {
     "name": "stdout",
     "output_type": "stream",
     "text": [
      "\n",
      "Training time: 7.539s\n",
      "Prediction time (train): 35.424s\n",
      "Prediction time (test): 9.954s\n",
      "\n",
      "Train set score: 0.7003094150581995\n",
      "Test set score: 0.19646408839779006\n"
     ]
    }
   ],
   "source": [
    "from sklearn.naive_bayes import GaussianNB\n",
    "from time import time\n",
    "t0 = time()\n",
    "model = GaussianNB()\n",
    "model.fit(xtrain_tfidf, train_y)\n",
    "print(f\"\\nTraining time: {round(time()-t0, 3)}s\")\n",
    "t0 = time()\n",
    "score_train = model.score(xtrain_tfidf, train_y)\n",
    "print(f'Prediction time (train): {round(time()-t0, 3)}s')\n",
    "t0 = time()\n",
    "score_test = model.score(xvalid_tfidf, valid_y)\n",
    "print(f'Prediction time (test): {round(time()-t0, 3)}s')\n",
    "print('\\nTrain set score:', score_train)\n",
    "print('Test set score:', score_test)"
   ]
  }
 ],
 "metadata": {
  "kernelspec": {
   "display_name": "Python 3",
   "language": "python",
   "name": "python3"
  },
  "language_info": {
   "codemirror_mode": {
    "name": "ipython",
    "version": 3
   },
   "file_extension": ".py",
   "mimetype": "text/x-python",
   "name": "python",
   "nbconvert_exporter": "python",
   "pygments_lexer": "ipython3",
   "version": "3.8.5"
  }
 },
 "nbformat": 4,
 "nbformat_minor": 4
}
