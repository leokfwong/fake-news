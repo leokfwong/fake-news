{
 "cells": [
  {
   "cell_type": "code",
   "execution_count": 139,
   "metadata": {},
   "outputs": [],
   "source": [
    "import pandas as pd\n",
    "import os\n",
    "from nltk import word_tokenize\n",
    "from nltk.corpus import stopwords\n",
    "from nltk.stem import WordNetLemmatizer\n",
    "import re, unicodedata\n",
    "\n",
    "from sklearn.feature_extraction.text import TfidfVectorizer, CountVectorizer\n",
    "from sklearn import model_selection, preprocessing"
   ]
  },
  {
   "cell_type": "code",
   "execution_count": 140,
   "metadata": {},
   "outputs": [
    {
     "output_type": "execute_result",
     "data": {
      "text/plain": [
       "(18008, 8)"
      ]
     },
     "metadata": {},
     "execution_count": 140
    }
   ],
   "source": [
    "df = pd.DataFrame()\n",
    "for filename in os.listdir('datasets'):\n",
    "     df = df.append(pd.read_csv('datasets/' + filename, dtype={'label':str}), ignore_index=True)\n",
    "\n",
    "df.shape"
   ]
  },
  {
   "cell_type": "code",
   "execution_count": 141,
   "metadata": {},
   "outputs": [
    {
     "output_type": "execute_result",
     "data": {
      "text/plain": [
       "   index        label                                              quote  \\\n",
       "0      0  barely-true  “When large numbers of people in Butler (Pa.) ...   \n",
       "1      1  barely-true  Broken voting machines in Russellville, Ark., ...   \n",
       "2      2  barely-true  Pennsylvania officials are “attempting to sile...   \n",
       "3      3  barely-true  In Massachusetts, \"anybody can go vote for any...   \n",
       "4      4  barely-true  “Joe Biden and Kamala Harris’ government-run h...   \n",
       "\n",
       "                    context          author               date  \\\n",
       "0      a Fox News broadcast  Tucker Carlson   November 2, 2020   \n",
       "1        a post on Facebook     Viral image   October 21, 2020   \n",
       "2           a Facebook post  Facebook posts   November 2, 2020   \n",
       "3  a video posted on TikTok    TikTok posts  September 1, 2020   \n",
       "4                   a TV ad    Donald Trump   October 28, 2020   \n",
       "\n",
       "                                     categories            staff  \n",
       "0          National, Drugs, Pundits, PunditFact    Jon Greenberg  \n",
       "1               Elections, Facebook Fact-checks    Bill McCarthy  \n",
       "2  Elections, Facebook Fact-checks, Coronavirus   Ciara O'Rourke  \n",
       "3                      Elections, Voter ID Laws  Miriam Valverde  \n",
       "4                         National, Health Care      Amy Sherman  "
      ],
      "text/html": "<div>\n<style scoped>\n    .dataframe tbody tr th:only-of-type {\n        vertical-align: middle;\n    }\n\n    .dataframe tbody tr th {\n        vertical-align: top;\n    }\n\n    .dataframe thead th {\n        text-align: right;\n    }\n</style>\n<table border=\"1\" class=\"dataframe\">\n  <thead>\n    <tr style=\"text-align: right;\">\n      <th></th>\n      <th>index</th>\n      <th>label</th>\n      <th>quote</th>\n      <th>context</th>\n      <th>author</th>\n      <th>date</th>\n      <th>categories</th>\n      <th>staff</th>\n    </tr>\n  </thead>\n  <tbody>\n    <tr>\n      <th>0</th>\n      <td>0</td>\n      <td>barely-true</td>\n      <td>“When large numbers of people in Butler (Pa.) ...</td>\n      <td>a Fox News broadcast</td>\n      <td>Tucker Carlson</td>\n      <td>November 2, 2020</td>\n      <td>National, Drugs, Pundits, PunditFact</td>\n      <td>Jon Greenberg</td>\n    </tr>\n    <tr>\n      <th>1</th>\n      <td>1</td>\n      <td>barely-true</td>\n      <td>Broken voting machines in Russellville, Ark., ...</td>\n      <td>a post on Facebook</td>\n      <td>Viral image</td>\n      <td>October 21, 2020</td>\n      <td>Elections, Facebook Fact-checks</td>\n      <td>Bill McCarthy</td>\n    </tr>\n    <tr>\n      <th>2</th>\n      <td>2</td>\n      <td>barely-true</td>\n      <td>Pennsylvania officials are “attempting to sile...</td>\n      <td>a Facebook post</td>\n      <td>Facebook posts</td>\n      <td>November 2, 2020</td>\n      <td>Elections, Facebook Fact-checks, Coronavirus</td>\n      <td>Ciara O'Rourke</td>\n    </tr>\n    <tr>\n      <th>3</th>\n      <td>3</td>\n      <td>barely-true</td>\n      <td>In Massachusetts, \"anybody can go vote for any...</td>\n      <td>a video posted on TikTok</td>\n      <td>TikTok posts</td>\n      <td>September 1, 2020</td>\n      <td>Elections, Voter ID Laws</td>\n      <td>Miriam Valverde</td>\n    </tr>\n    <tr>\n      <th>4</th>\n      <td>4</td>\n      <td>barely-true</td>\n      <td>“Joe Biden and Kamala Harris’ government-run h...</td>\n      <td>a TV ad</td>\n      <td>Donald Trump</td>\n      <td>October 28, 2020</td>\n      <td>National, Health Care</td>\n      <td>Amy Sherman</td>\n    </tr>\n  </tbody>\n</table>\n</div>"
     },
     "metadata": {},
     "execution_count": 141
    }
   ],
   "source": [
    "df.head()"
   ]
  },
  {
   "cell_type": "code",
   "execution_count": 142,
   "metadata": {},
   "outputs": [],
   "source": [
    "\n",
    "\n",
    "def remove_stopwords(text):\n",
    "    new_words = []\n",
    "    stop_words = stopwords.words('english')\n",
    "    words = nltk.word_tokenize(text)\n",
    "    for word in words:\n",
    "        if word not in stop_words:\n",
    "            new_words.append(word)\n",
    "    return ' '.join(new_words)\n",
    "\n",
    "def remove_non_ascii(words):\n",
    "    new_words = []\n",
    "    for word in words:\n",
    "        new_word = unicodedata.normalize('NFKD', word).encode('ascii', 'ignore').decode('utf-8', 'ignore')\n",
    "        new_words.append(new_word)\n",
    "    return ''.join(new_words)\n",
    "\n",
    "def lemmatize_words(text):\n",
    "    lemmatizer = WordNetLemmatizer()   \n",
    "    new_words = []\n",
    "    words = nltk.word_tokenize(text)\n",
    "    for word in words:\n",
    "        new_words.append(str(lemmatizer.lemmatize(word)))\n",
    "    return ' '.join(new_words)\n",
    "\n",
    "def preprocess(df, t):\n",
    "     df[t] = df[t].apply(lambda x : x.lower()) #Lower case everything\n",
    "     df[t] = df[t].apply(lambda x : re.sub(r'[^\\w\\s]', '', x)) #Remove punctuation \n",
    "     #df[t] = df[t].apply(lambda x : remove_non_ascii(x))  #Removing Non ASCII Words\n",
    "     df[t] = df[t].apply(lambda x : remove_stopwords(x))#Removing Stopwords\n",
    "     df[t] = df[t].apply(lambda x : lemmatize_words(x))#Lemmatize words \n",
    "     return df[t]\n",
    "\n"
   ]
  },
  {
   "cell_type": "code",
   "execution_count": 143,
   "metadata": {
    "tags": []
   },
   "outputs": [],
   "source": [
    "df['quote'] = preprocess(df,'quote')"
   ]
  },
  {
   "cell_type": "code",
   "execution_count": 144,
   "metadata": {},
   "outputs": [
    {
     "output_type": "execute_result",
     "data": {
      "text/plain": [
       "   index        label                                              quote  \\\n",
       "0      0  barely-true  large number people butler pa started killing ...   \n",
       "1      1  barely-true  broken voting machine russellville ark tried a...   \n",
       "2      2  barely-true  pennsylvania official attempting silence voter...   \n",
       "3      3  barely-true  massachusetts anybody go vote anybody long inf...   \n",
       "4      4  barely-true  joe biden kamala harris governmentrun health c...   \n",
       "\n",
       "                    context          author               date  \\\n",
       "0      a Fox News broadcast  Tucker Carlson   November 2, 2020   \n",
       "1        a post on Facebook     Viral image   October 21, 2020   \n",
       "2           a Facebook post  Facebook posts   November 2, 2020   \n",
       "3  a video posted on TikTok    TikTok posts  September 1, 2020   \n",
       "4                   a TV ad    Donald Trump   October 28, 2020   \n",
       "\n",
       "                                     categories            staff  \n",
       "0          National, Drugs, Pundits, PunditFact    Jon Greenberg  \n",
       "1               Elections, Facebook Fact-checks    Bill McCarthy  \n",
       "2  Elections, Facebook Fact-checks, Coronavirus   Ciara O'Rourke  \n",
       "3                      Elections, Voter ID Laws  Miriam Valverde  \n",
       "4                         National, Health Care      Amy Sherman  "
      ],
      "text/html": "<div>\n<style scoped>\n    .dataframe tbody tr th:only-of-type {\n        vertical-align: middle;\n    }\n\n    .dataframe tbody tr th {\n        vertical-align: top;\n    }\n\n    .dataframe thead th {\n        text-align: right;\n    }\n</style>\n<table border=\"1\" class=\"dataframe\">\n  <thead>\n    <tr style=\"text-align: right;\">\n      <th></th>\n      <th>index</th>\n      <th>label</th>\n      <th>quote</th>\n      <th>context</th>\n      <th>author</th>\n      <th>date</th>\n      <th>categories</th>\n      <th>staff</th>\n    </tr>\n  </thead>\n  <tbody>\n    <tr>\n      <th>0</th>\n      <td>0</td>\n      <td>barely-true</td>\n      <td>large number people butler pa started killing ...</td>\n      <td>a Fox News broadcast</td>\n      <td>Tucker Carlson</td>\n      <td>November 2, 2020</td>\n      <td>National, Drugs, Pundits, PunditFact</td>\n      <td>Jon Greenberg</td>\n    </tr>\n    <tr>\n      <th>1</th>\n      <td>1</td>\n      <td>barely-true</td>\n      <td>broken voting machine russellville ark tried a...</td>\n      <td>a post on Facebook</td>\n      <td>Viral image</td>\n      <td>October 21, 2020</td>\n      <td>Elections, Facebook Fact-checks</td>\n      <td>Bill McCarthy</td>\n    </tr>\n    <tr>\n      <th>2</th>\n      <td>2</td>\n      <td>barely-true</td>\n      <td>pennsylvania official attempting silence voter...</td>\n      <td>a Facebook post</td>\n      <td>Facebook posts</td>\n      <td>November 2, 2020</td>\n      <td>Elections, Facebook Fact-checks, Coronavirus</td>\n      <td>Ciara O'Rourke</td>\n    </tr>\n    <tr>\n      <th>3</th>\n      <td>3</td>\n      <td>barely-true</td>\n      <td>massachusetts anybody go vote anybody long inf...</td>\n      <td>a video posted on TikTok</td>\n      <td>TikTok posts</td>\n      <td>September 1, 2020</td>\n      <td>Elections, Voter ID Laws</td>\n      <td>Miriam Valverde</td>\n    </tr>\n    <tr>\n      <th>4</th>\n      <td>4</td>\n      <td>barely-true</td>\n      <td>joe biden kamala harris governmentrun health c...</td>\n      <td>a TV ad</td>\n      <td>Donald Trump</td>\n      <td>October 28, 2020</td>\n      <td>National, Health Care</td>\n      <td>Amy Sherman</td>\n    </tr>\n  </tbody>\n</table>\n</div>"
     },
     "metadata": {},
     "execution_count": 144
    }
   ],
   "source": [
    "df.head()"
   ]
  },
  {
   "cell_type": "code",
   "execution_count": 15,
   "metadata": {},
   "outputs": [
    {
     "output_type": "stream",
     "name": "stdout",
     "text": [
      "“When large numbers of people in Butler (Pa.) started killing themselves with narcotics, no one in Washington or New York or Los Angeles said a word about it.”\n"
     ]
    }
   ],
   "source": [
    "quote = df['quote'].to_numpy()\n",
    "label = df['label'].to_numpy()"
   ]
  },
  {
   "cell_type": "code",
   "execution_count": 18,
   "metadata": {},
   "outputs": [],
   "source": [
    "# split the dataset into training and validation datasets \n",
    "train_x, valid_x, train_y, valid_y = model_selection.train_test_split(quote, label)\n",
    "\n",
    "# label encode the target variable \n",
    "encoder = preprocessing.LabelEncoder()\n",
    "train_y = encoder.fit_transform(train_y)\n",
    "valid_y = encoder.fit_transform(valid_y)"
   ]
  },
  {
   "cell_type": "code",
   "execution_count": 24,
   "metadata": {},
   "outputs": [
    {
     "output_type": "stream",
     "name": "stdout",
     "text": [
      "['As the usage [of synthetic marijuana] has dramatically increased, instances of violence, bodily harm and even death have risen with it.'\n 'The Nevada Gaming Commission did not find Trump ‘trustworthy’ enough for a gaming license.'\n 'Says former Ukraine President Petro Poroshenko \"actively worked for Secretary Clinton.'\n ... 'U.S. taxpayers paid $71,500 per job created by the stimulus bill.'\n 'Sen. Obama has declared, and repeatedly reaffirmed his intention to meet the president of Iran without any preconditions.'\n 'Says Melania Trump’s dress at Mount Rushmore speech was designed from “drawings of several young victims of sex trafficking.']\n"
     ]
    }
   ],
   "source": [
    "print(valid_x)\n"
   ]
  },
  {
   "cell_type": "code",
   "execution_count": null,
   "metadata": {},
   "outputs": [],
   "source": []
  },
  {
   "cell_type": "code",
   "execution_count": 30,
   "metadata": {},
   "outputs": [],
   "source": [
    "# word level tf-idf\n",
    "tfidf_vect = TfidfVectorizer(analyzer='word', stop_words='english', max_df=0.7)\n",
    "tfidf_vect.fit(quote)\n",
    "xtrain_tfidf =  tfidf_vect.transform(train_x)\n",
    "xvalid_tfidf =  tfidf_vect.transform(valid_x)"
   ]
  }
 ],
 "metadata": {
  "kernelspec": {
   "display_name": "Python 3",
   "language": "python",
   "name": "python3"
  },
  "language_info": {
   "codemirror_mode": {
    "name": "ipython",
    "version": 3
   },
   "file_extension": ".py",
   "mimetype": "text/x-python",
   "name": "python",
   "nbconvert_exporter": "python",
   "pygments_lexer": "ipython3",
   "version": "3.7.9-final"
  }
 },
 "nbformat": 4,
 "nbformat_minor": 4
}